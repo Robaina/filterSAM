{
 "cells": [
  {
   "cell_type": "markdown",
   "id": "c1d2d98b-a3d1-4d9a-accd-63ddd43d76bd",
   "metadata": {},
   "source": [
    "# Filtering sam/bam files by percent identity or percent of matched sequence\n",
    "\n",
    "Tools to filter alignments in SAM/BAM files by percent identity or percent of matched sequence. \n",
    "\n",
    "Percent identity is computed as:\n",
    "\n",
    "$$PI = 100 \\frac{N_m}{N_m + N_i}$$\n",
    "\n",
    "where $N_m$ is the number of matches and $N_i$ is the number of mismatches.\n",
    "\n",
    "Percent of matched sequences is computed as:\n",
    "\n",
    "$$PM = 100 \\frac{N_m}{L}$$\n",
    "\n",
    "where $L$ corresponds to query sequence length.\n",
    "\n",
    "\n",
    "# Installation\n",
    "\n",
    "```pip3 install filtersam```\n",
    "\n",
    "# TODO"
   ]
  },
  {
   "cell_type": "markdown",
   "id": "3a4a11e8-5be1-4b94-925b-ec4441ca70cf",
   "metadata": {},
   "source": [
    "# Usage"
   ]
  },
  {
   "cell_type": "code",
   "execution_count": 1,
   "id": "2b6ffe12-c8cd-4b73-942f-38986941b0cc",
   "metadata": {},
   "outputs": [],
   "source": [
    "from filtersam.filtersam import filterSAMbyIdentity"
   ]
  },
  {
   "cell_type": "code",
   "execution_count": 3,
   "id": "726a9ea2-a893-4c6c-9dbd-1a43f78f12e1",
   "metadata": {},
   "outputs": [],
   "source": [
    "filterSAMbyIdentity('ERS491274.bam', output_path='processed_np.bam', identity_cutoff=95)"
   ]
  },
  {
   "cell_type": "markdown",
   "id": "0b1b2065-65a4-4575-9a41-7cc1577286b6",
   "metadata": {},
   "source": [
    "The processed BAM file, that is, after filtering, should contain fewer alignments"
   ]
  },
  {
   "cell_type": "code",
   "execution_count": 11,
   "id": "1c42a49c-275e-49bc-bccf-14b5b3669c23",
   "metadata": {},
   "outputs": [
    {
     "data": {
      "text/plain": [
       "1113119"
      ]
     },
     "execution_count": 11,
     "metadata": {},
     "output_type": "execute_result"
    }
   ],
   "source": [
    "getNumberOfReads('ERS491274.bam')"
   ]
  },
  {
   "cell_type": "code",
   "execution_count": 5,
   "id": "f991c568-3b6a-4cc9-a402-6bbc57e6b161",
   "metadata": {},
   "outputs": [
    {
     "data": {
      "text/plain": [
       "11384"
      ]
     },
     "execution_count": 5,
     "metadata": {},
     "output_type": "execute_result"
    }
   ],
   "source": [
    "getNumberOfReads('processed_np.bam')"
   ]
  },
  {
   "cell_type": "markdown",
   "id": "febf2859-3230-49b6-85d9-22517f254d13",
   "metadata": {},
   "source": [
    "# Parallelizing filtersam\n",
    "\n",
    "Filtering large BAM files can take a while. However, ```filtersam``` can be parallelized with an additional python package: [parallelbam](https://pypi.org/project/parallelbam/). Effectively, ```parallelbam``` splits a large BAM file into chunks and calls ```filtersam``` in dedicated processes for each one of them.\n",
    "\n",
    "Let's try this out."
   ]
  },
  {
   "cell_type": "code",
   "execution_count": 10,
   "id": "325580aa-994b-49c3-8843-34abb9668fc6",
   "metadata": {},
   "outputs": [],
   "source": [
    "from parallelbam.parallelbam import parallelizeBAMoperation, getNumberOfReads\n",
    "parallelizeBAMoperation('ERS491274.bam', filterSAMbyIdentity, [95], n_processes=8, output_dir=None)"
   ]
  },
  {
   "cell_type": "code",
   "execution_count": 4,
   "id": "e2b34891-76bc-4b76-95f9-449801575a81",
   "metadata": {},
   "outputs": [
    {
     "data": {
      "text/plain": [
       "11384"
      ]
     },
     "execution_count": 4,
     "metadata": {},
     "output_type": "execute_result"
    }
   ],
   "source": [
    "getNumberOfReads('processed.bam')"
   ]
  },
  {
   "cell_type": "markdown",
   "id": "e369ce25-60e1-463b-b788-0da30f96ea0c",
   "metadata": {},
   "source": [
    "To check that the processed bam file, after merging the 8 chunks, contains the same number of reads we can call ```getNumberOfReads```."
   ]
  }
 ],
 "metadata": {
  "kernelspec": {
   "display_name": "Python 3",
   "language": "python",
   "name": "python3"
  },
  "language_info": {
   "codemirror_mode": {
    "name": "ipython",
    "version": 3
   },
   "file_extension": ".py",
   "mimetype": "text/x-python",
   "name": "python",
   "nbconvert_exporter": "python",
   "pygments_lexer": "ipython3",
   "version": "3.8.10"
  }
 },
 "nbformat": 4,
 "nbformat_minor": 5
}
