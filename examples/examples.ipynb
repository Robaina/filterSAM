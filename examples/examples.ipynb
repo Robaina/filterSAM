{
 "cells": [
  {
   "cell_type": "markdown",
   "id": "89754f28",
   "metadata": {},
   "source": [
    "# Filtering sam/bam files by percent identity or percent of matched sequence\n",
    "\n",
    "This package contains two main functions: ```filterSAMbyIdentity``` and ```filterSAMbyPercentMatched```, to filter BAM files by percent identity or percent of matched sequence, respectively. \n",
    "\n",
    "To exemplify its usage, let's filter a BAM file by percent identity and percent of matched sequence."
   ]
  },
  {
   "cell_type": "code",
   "execution_count": 1,
   "id": "40af5d10",
   "metadata": {},
   "outputs": [
    {
     "ename": "ModuleNotFoundError",
     "evalue": "No module named 'filtersam'",
     "output_type": "error",
     "traceback": [
      "\u001b[0;31m---------------------------------------------------------------------------\u001b[0m",
      "\u001b[0;31mModuleNotFoundError\u001b[0m                       Traceback (most recent call last)",
      "\u001b[0;32m/tmp/ipykernel_38516/1078169630.py\u001b[0m in \u001b[0;36m<cell line: 1>\u001b[0;34m()\u001b[0m\n\u001b[0;32m----> 1\u001b[0;31m \u001b[0;32mfrom\u001b[0m \u001b[0mfiltersam\u001b[0m \u001b[0;32mimport\u001b[0m \u001b[0mfilterSAMbyIdentity\u001b[0m\u001b[0;34m,\u001b[0m \u001b[0mfilterSAMbyPercentMatched\u001b[0m\u001b[0;34m\u001b[0m\u001b[0;34m\u001b[0m\u001b[0m\n\u001b[0m\u001b[1;32m      2\u001b[0m \u001b[0;34m\u001b[0m\u001b[0m\n\u001b[1;32m      3\u001b[0m \u001b[0;34m\u001b[0m\u001b[0m\n\u001b[1;32m      4\u001b[0m \u001b[0;31m# Filter alignments with percent identity greater or equal to 95%\u001b[0m\u001b[0;34m\u001b[0m\u001b[0;34m\u001b[0m\u001b[0;34m\u001b[0m\u001b[0m\n\u001b[1;32m      5\u001b[0m filterSAMbyIdentity(input_path='demo_data/toy_sample.bam',\n",
      "\u001b[0;31mModuleNotFoundError\u001b[0m: No module named 'filtersam'"
     ]
    }
   ],
   "source": [
    "from filtersam import filterSAMbyIdentity, filterSAMbyPercentMatched\n",
    "\n",
    "\n",
    "# Filter alignments with percent identity greater or equal to 95%\n",
    "filterSAMbyIdentity(input_path='demo_data/toy_sample.bam',\n",
    "                    output_path='demo_results/toy_sample_PI95.bam',\n",
    "                    identity_cutoff=95)\n",
    "\n",
    "# Filter alignments with percent of matched sequence greater or equal to 50%\n",
    "filterSAMbyPercentMatched(input_path='demo_data/toy_sample.bam',\n",
    "                          output_path='demo_results/toy_sample_PM50.bam',\n",
    "                          matched_cutoff=50)"
   ]
  },
  {
   "cell_type": "markdown",
   "id": "b7193670",
   "metadata": {},
   "source": [
    "# Parallelizing filtersam\n",
    "\n",
    "Filtering large BAM files can take a while. However, ```filtersam``` can be parallelized with an additional python package: [parallelbam](https://pypi.org/project/parallelbam/). Effectively, ```parallelbam``` splits a large BAM file into chunks and calls ```filtersam``` in dedicated processes for each one of them.\n",
    "\n",
    "Let's try this out, we will parallelize the above operation in 8 processes."
   ]
  },
  {
   "cell_type": "code",
   "execution_count": 2,
   "id": "6ab3c5b1",
   "metadata": {},
   "outputs": [],
   "source": [
    "from parallelbam.parallelbam import parallelizeBAMoperation, getNumberOfReads\n",
    "\n",
    "\n",
    "# Filter alignments with percent identity greater or equal to 95% in parallel\n",
    "parallelizeBAMoperation('demo_data/toy_sample.bam',\n",
    "                        callback=filterSAMbyIdentity,\n",
    "                        callback_additional_args=[95],\n",
    "                        n_processes=8,\n",
    "                        output_path='demo_results/toy_sample_parallel.bam')"
   ]
  },
  {
   "cell_type": "markdown",
   "id": "9a5d5023",
   "metadata": {},
   "source": [
    "We can further check if the filtered bam files produced in a single process and in parallel contain the same number of segments with the function ```getNumberOfReads``` of parallelbam."
   ]
  },
  {
   "cell_type": "code",
   "execution_count": 3,
   "id": "ea738653",
   "metadata": {},
   "outputs": [
    {
     "data": {
      "text/plain": [
       "1000"
      ]
     },
     "execution_count": 3,
     "metadata": {},
     "output_type": "execute_result"
    }
   ],
   "source": [
    "# Number of segments in the original bam\n",
    "getNumberOfReads('demo_data/toy_sample.bam')"
   ]
  },
  {
   "cell_type": "code",
   "execution_count": 4,
   "id": "386469d4",
   "metadata": {},
   "outputs": [
    {
     "data": {
      "text/plain": [
       "1000"
      ]
     },
     "execution_count": 4,
     "metadata": {},
     "output_type": "execute_result"
    }
   ],
   "source": [
    "# Number of segments in the single-process PI-filtered bam file\n",
    "getNumberOfReads('demo_results/toy_sample_PI95.bam')"
   ]
  },
  {
   "cell_type": "code",
   "execution_count": 6,
   "id": "b37b9a53",
   "metadata": {},
   "outputs": [
    {
     "data": {
      "text/plain": [
       "1000"
      ]
     },
     "execution_count": 6,
     "metadata": {},
     "output_type": "execute_result"
    }
   ],
   "source": [
    "# Number of segments in the paralllized PI-filtered bam file\n",
    "getNumberOfReads('demo_results/toy_sample_parallel.bam')"
   ]
  },
  {
   "cell_type": "markdown",
   "id": "a9daa42f",
   "metadata": {},
   "source": [
    "We see that both bam files contain the same number of (filtered) segments (fewer than in the original bam file)."
   ]
  },
  {
   "cell_type": "markdown",
   "id": "ad3cad40",
   "metadata": {},
   "source": [
    "# Command-line usage\n",
    "\n",
    "Filtersam can also be called as a command line program in the following way:\n",
    "\n",
    "```filtersam [-h] [-i] [-m] [-p] [-o] bam```\n",
    "\n",
    "where _bam_ is the path to the bam/sam file.\n",
    "\n",
    "Call \n",
    "\n",
    "```filtersam --help```\n",
    "\n",
    "to display help text about the arguments."
   ]
  }
 ],
 "metadata": {
  "kernelspec": {
   "display_name": "Python 3.9.6 ('traits')",
   "language": "python",
   "name": "python3"
  },
  "language_info": {
   "codemirror_mode": {
    "name": "ipython",
    "version": 3
   },
   "file_extension": ".py",
   "mimetype": "text/x-python",
   "name": "python",
   "nbconvert_exporter": "python",
   "pygments_lexer": "ipython3",
   "version": "3.9.6"
  },
  "vscode": {
   "interpreter": {
    "hash": "367a058ebb24ea2c2bb1633bf810ec6a1a05f59e065f27f721ea93103e797079"
   }
  }
 },
 "nbformat": 4,
 "nbformat_minor": 5
}
