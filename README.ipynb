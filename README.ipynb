{
 "cells": [
  {
   "cell_type": "markdown",
   "id": "89754f28",
   "metadata": {},
   "source": [
    "# Filtering sam/bam files by percent identity or percent of matched sequence\n",
    "\n",
    "Tools to filter alignments in SAM/BAM files by percent identity or percent of matched sequence. \n",
    "\n",
    "Percent identity is computed as:\n",
    "\n",
    "$$PI = 100 \\frac{N_m}{N_m + N_i}$$\n",
    "\n",
    "where $N_m$ is the number of matches and $N_i$ is the number of mismatches.\n",
    "\n",
    "Percent of matched sequences is computed as:\n",
    "\n",
    "$$PM = 100 \\frac{N_m}{L}$$\n",
    "\n",
    "where $L$ corresponds to query sequence length.\n",
    "\n",
    "## NOTES\n",
    "\n",
    "BAM/SAM files must contain [MD tags](https://github.com/vsbuffalo/devnotes/wiki/The-MD-Tag-in-BAM-Files) to be able to filter by percent identity. Aligners such as [BWA](https://www.ncbi.nlm.nih.gov/pmc/articles/PMC2705234/) add MD tags to each queried sequence in a BAM file. MD tags can also be generated with [samtools](http://www.htslib.org/doc/samtools-calmd.html).\n",
    "\n",
    "## Installation\n",
    "\n",
    "```pip3 install filtersam```\n",
    "\n",
    "## TODO\n",
    "\n",
    "1. Make it command line callable\n",
    "2. Perhaps good idea (if possible) to add a specific tag to BAM/SAM containing computed percent identity\n",
    "3. Include several definitions of percent identity and/or let the user define one"
   ]
  },
  {
   "cell_type": "markdown",
   "id": "f3dca6a4",
   "metadata": {},
   "source": [
    "# Usage\n",
    "\n",
    "This package contains two main functions: ```filterSAMbyIdentity``` and ```filterSAMbyPercentMatched```, to filter BAM files by percent identity or percent of matched sequence, respectively. \n",
    "\n",
    "To exemplify its usage, let's filter a BAM file by percent identity and percent of matched sequence."
   ]
  },
  {
   "cell_type": "code",
   "execution_count": 1,
   "id": "40af5d10",
   "metadata": {},
   "outputs": [],
   "source": [
    "from filtersam.filtersam import filterSAMbyIdentity, filterSAMbyPercentMatched\n",
    "\n",
    "\n",
    "# Filter alignments with percent identity greater or equal to 95%\n",
    "filterSAMbyIdentity(input_path='filtersam/tests/toy_sample.bam',\n",
    "                    output_path='filtersam/tests/toy_sample_PI95.bam',\n",
    "                    identity_cutoff=95)\n",
    "\n",
    "# Filter alignments with percent of matched sequence greater or equal to 50%\n",
    "filterSAMbyPercentMatched(input_path='filtersam/tests/toy_sample.bam',\n",
    "                          output_path='filtersam/tests/toy_sample_PM50.bam',\n",
    "                          matched_cutoff=50)"
   ]
  },
  {
   "cell_type": "markdown",
   "id": "b7193670",
   "metadata": {},
   "source": [
    "# Parallelizing filtersam\n",
    "\n",
    "Filtering large BAM files can take a while. However, ```filtersam``` can be parallelized with an additional python package: [parallelbam](https://pypi.org/project/parallelbam/). Effectively, ```parallelbam``` splits a large BAM file into chunks and calls ```filtersam``` in dedicated processes for each one of them.\n",
    "\n",
    "Let's try this out, we will parallelize the above operation in 8 processes."
   ]
  },
  {
   "cell_type": "code",
   "execution_count": 2,
   "id": "6ab3c5b1",
   "metadata": {},
   "outputs": [],
   "source": [
    "from parallelbam.parallelbam import parallelizeBAMoperation, getNumberOfReads\n",
    "\n",
    "\n",
    "# Filter alignments with percent identity greater or equal to 95% in parallel\n",
    "parallelizeBAMoperation('filtersam/tests/toy_sample.bam',\n",
    "                        callback=filterSAMbyIdentity,\n",
    "                        callback_additional_args=[95],\n",
    "                        n_processes=8,\n",
    "                        output_path='filtersam/tests/toy_sample_parallel.bam')"
   ]
  },
  {
   "cell_type": "markdown",
   "id": "9a5d5023",
   "metadata": {},
   "source": [
    "We can further check if the filtered bam files produced in a single process and in parallel contain the same number of segments with the function ```getNumberOfReads``` of parallelbam."
   ]
  },
  {
   "cell_type": "code",
   "execution_count": 3,
   "id": "ea738653",
   "metadata": {},
   "outputs": [
    {
     "data": {
      "text/plain": [
       "1000"
      ]
     },
     "execution_count": 3,
     "metadata": {},
     "output_type": "execute_result"
    }
   ],
   "source": [
    "# Number of segments in the original bam\n",
    "getNumberOfReads('filtersam/tests/toy_sample.bam')"
   ]
  },
  {
   "cell_type": "code",
   "execution_count": 4,
   "id": "386469d4",
   "metadata": {},
   "outputs": [
    {
     "data": {
      "text/plain": [
       "1000"
      ]
     },
     "execution_count": 4,
     "metadata": {},
     "output_type": "execute_result"
    }
   ],
   "source": [
    "# Number of segments in the single-process PI-filtered bam file\n",
    "getNumberOfReads('filtersam/tests/toy_sample_PI95.bam')"
   ]
  },
  {
   "cell_type": "code",
   "execution_count": 6,
   "id": "b37b9a53",
   "metadata": {},
   "outputs": [
    {
     "data": {
      "text/plain": [
       "1000"
      ]
     },
     "execution_count": 6,
     "metadata": {},
     "output_type": "execute_result"
    }
   ],
   "source": [
    "# Number of segments in the paralllized PI-filtered bam file\n",
    "getNumberOfReads('filtersam/tests/toy_sample_parallel.bam')"
   ]
  },
  {
   "cell_type": "markdown",
   "id": "a9daa42f",
   "metadata": {},
   "source": [
    "We see that both bam files contain the same number of (filtered) segments (fewer than in the original bam file)."
   ]
  },
  {
   "cell_type": "markdown",
   "id": "ad3cad40",
   "metadata": {},
   "source": [
    "# Command-line usage\n",
    "\n",
    "Filtersam can also be called as a command line program in the following way:\n",
    "\n",
    "```filtersam [-h] [-i] [-m] [-p] [-o] bam```\n",
    "\n",
    "where _bam_ is the path to the bam/sam file.\n",
    "\n",
    "Call \n",
    "\n",
    "```filtersam --help```\n",
    "\n",
    "to display help text about the arguments."
   ]
  }
 ],
 "metadata": {
  "kernelspec": {
   "display_name": "Python 3 (ipykernel)",
   "language": "python",
   "name": "python3"
  },
  "language_info": {
   "codemirror_mode": {
    "name": "ipython",
    "version": 3
   },
   "file_extension": ".py",
   "mimetype": "text/x-python",
   "name": "python",
   "nbconvert_exporter": "python",
   "pygments_lexer": "ipython3",
   "version": "3.8.12"
  },
  "vscode": {
   "interpreter": {
    "hash": "11a98ded546897ff91c573559652ec003268230b80b3353dc7234326fbfab0ab"
   }
  }
 },
 "nbformat": 4,
 "nbformat_minor": 5
}
