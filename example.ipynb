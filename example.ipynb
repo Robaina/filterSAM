{
 "cells": [
  {
   "cell_type": "markdown",
   "source": [
    "# Filtering sam/bam files by percent identity or percent of matched sequence\n",
    "\n",
    "Tools to filter alignments in SAM/BAM files by percent identity or percent of matched sequence. \n",
    "\n",
    "Percent identity is computed as:\n",
    "\n",
    "$$PI = 100 \\frac{N_m}{N_m + N_i}$$\n",
    "\n",
    "where $N_m$ is the number of matches and $N_i$ is the number of mismatches.\n",
    "\n",
    "Percent of matched sequences is computed as:\n",
    "\n",
    "$$PM = 100 \\frac{N_m}{L}$$\n",
    "\n",
    "where $L$ corresponds to query sequence length.\n",
    "\n",
    "## NOTES\n",
    "\n",
    "BAM/SAM files must contain [MD tags](https://github.com/vsbuffalo/devnotes/wiki/The-MD-Tag-in-BAM-Files) to be able to filter by percent identity. Aligners such as [BWA](https://www.ncbi.nlm.nih.gov/pmc/articles/PMC2705234/) add MD tags to each queried sequence in a BAM file. MD tags can also be generated with [samtools](http://www.htslib.org/doc/samtools-calmd.html).\n",
    "\n",
    "## Dependencies\n",
    "\n",
    "1. [Samtools](http://www.htslib.org/)\n",
    "2. [Pysam](https://pysam.readthedocs.io/en/latest/api.html)\n",
    "\n",
    "## Installation\n",
    "\n",
    "```pip3 install filtersam```\n",
    "\n",
    "## TODO\n",
    "\n",
    "1. Make it command line callable\n",
    "2. Perhaps good idea (if possible) to add a specific tag to BAM/SAM containing computed percent identity\n",
    "3. Include several definitions of percent identity and/or let the user define one"
   ],
   "metadata": {}
  },
  {
   "cell_type": "markdown",
   "source": [
    "# Usage\n",
    "\n",
    "This package contains two main functions: ```filterSAMbyIdentity``` and ```filterSAMbyPercentMatched```, to filter BAM files by percent identity or percent of matched sequence, respectively. \n",
    "\n",
    "To exemplify its usage, let's filter a BAM file by percent identity and percent of matched sequence."
   ],
   "metadata": {}
  },
  {
   "cell_type": "code",
   "execution_count": 1,
   "source": [
    "from filtersam.filtersam import filterSAMbyIdentity, filterSAMbyPercentMatched\n",
    "\n",
    "\n",
    "# Filter alignments with percent identity greater or equal to 95%\n",
    "filterSAMbyIdentity(input_path='ERS491274.bam',\n",
    "                    output_path='ERS491274_PI95.bam',\n",
    "                    identity_cutoff=95)\n",
    "\n",
    "# Filter alignments with percent of matched sequence greater or equal to 50%\n",
    "filterSAMbyPercentMatched(input_path='ERS491274.bam',\n",
    "                          output_path='ERS491274_PM50.bam',\n",
    "                          matched_cutoff=50)"
   ],
   "outputs": [],
   "metadata": {}
  },
  {
   "cell_type": "markdown",
   "source": [
    "# Parallelizing filtersam\n",
    "\n",
    "Filtering large BAM files can take a while. However, ```filtersam``` can be parallelized with an additional python package: [parallelbam](https://pypi.org/project/parallelbam/). Effectively, ```parallelbam``` splits a large BAM file into chunks and calls ```filtersam``` in dedicated processes for each one of them.\n",
    "\n",
    "Let's try this out, we will parallelize the above operation in 8 processes."
   ],
   "metadata": {}
  },
  {
   "cell_type": "code",
   "execution_count": 10,
   "source": [
    "from parallelbam.parallelbam import parallelizeBAMoperation, getNumberOfReads\n",
    "\n",
    "\n",
    "# Filter alignments with percent identity greater or equal to 95% in parallel\n",
    "parallelizeBAMoperation('ERS491274.bam',\n",
    "                        callback=filterSAMbyIdentity,\n",
    "                        callback_additional_args=[95],\n",
    "                        n_processes=8,\n",
    "                        output_dir='ERS491274_PI95_parallel.bam')"
   ],
   "outputs": [],
   "metadata": {}
  },
  {
   "cell_type": "markdown",
   "source": [
    "We can further check if the filtered bam files produced in a single process and in parallel contain the same number of segments with the function ```getNumberOfReads``` of parallelbam."
   ],
   "metadata": {}
  },
  {
   "cell_type": "code",
   "execution_count": 11,
   "source": [
    "# Number of segments in the original bam\n",
    "getNumberOfReads('ERS491274.bam')"
   ],
   "outputs": [
    {
     "output_type": "execute_result",
     "data": {
      "text/plain": [
       "1113119"
      ]
     },
     "metadata": {},
     "execution_count": 11
    }
   ],
   "metadata": {}
  },
  {
   "cell_type": "code",
   "execution_count": 5,
   "source": [
    "# Number of segments in the single-process PI-filtered bam file\n",
    "getNumberOfReads('ERS491274_PI95.bam')"
   ],
   "outputs": [
    {
     "output_type": "execute_result",
     "data": {
      "text/plain": [
       "11384"
      ]
     },
     "metadata": {},
     "execution_count": 5
    }
   ],
   "metadata": {}
  },
  {
   "cell_type": "code",
   "execution_count": 4,
   "source": [
    "# Number of segments in the paralllized PI-filtered bam file\n",
    "getNumberOfReads('ERS491274_PI95_parallel.bam')"
   ],
   "outputs": [
    {
     "output_type": "execute_result",
     "data": {
      "text/plain": [
       "11384"
      ]
     },
     "metadata": {},
     "execution_count": 4
    }
   ],
   "metadata": {}
  },
  {
   "cell_type": "markdown",
   "source": [
    "We see that both bam files contain the same number of (filtered) segments (fewer than in the original bam file)."
   ],
   "metadata": {}
  },
  {
   "cell_type": "markdown",
   "source": [
    "# Command-line usage\n",
    "\n",
    "Filtersam can also be called as a command line program in the following way:\n",
    "\n",
    "```filtersam [-h] [-i] [-m] [-p] [-o] bam```\n",
    "\n",
    "where _bam_ is the path to the bam/sam file.\n",
    "\n",
    "Call \n",
    "\n",
    "```filtersam --help```\n",
    "\n",
    "to display help text about the arguments."
   ],
   "metadata": {}
  }
 ],
 "metadata": {
  "kernelspec": {
   "name": "python3",
   "display_name": "Python 3.8.10 64-bit"
  },
  "language_info": {
   "codemirror_mode": {
    "name": "ipython",
    "version": 3
   },
   "file_extension": ".py",
   "mimetype": "text/x-python",
   "name": "python",
   "nbconvert_exporter": "python",
   "pygments_lexer": "ipython3",
   "version": "3.8.10"
  },
  "interpreter": {
   "hash": "916dbcbb3f70747c44a77c7bcd40155683ae19c65e1c03b4aa3499c5328201f1"
  }
 },
 "nbformat": 4,
 "nbformat_minor": 5
}