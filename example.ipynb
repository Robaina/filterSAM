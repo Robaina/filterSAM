{
 "cells": [
  {
   "cell_type": "markdown",
   "id": "c1d2d98b-a3d1-4d9a-accd-63ddd43d76bd",
   "metadata": {},
   "source": [
    "# Filtering sam/bam files by percent identity or percent of matched sequence\n",
    "\n",
    "Tools to filter alignments in SAM/BAM files by percent identity or percent of matched sequence. \n",
    "\n",
    "Percent identity is computed as:\n",
    "\n",
    "$$PI = 100 \\frac{N_m}{N_m + N_i}$$\n",
    "\n",
    "where $N_m$ is the number of matches and $N_i$ is the number of mismatches.\n",
    "\n",
    "Percent of matched sequences is computed as:\n",
    "\n",
    "$$PM = 100 \\frac{N_m}{L}$$\n",
    "\n",
    "where $L$ corresponds to query sequence length.\n",
    "\n",
    "## NOTES\n",
    "\n",
    "BAM/SAM files must contain [MD tags](https://github.com/vsbuffalo/devnotes/wiki/The-MD-Tag-in-BAM-Files) to be able to filter by percent identity. Aligners such as [BWA](https://www.ncbi.nlm.nih.gov/pmc/articles/PMC2705234/) add MD tags to each queried sequence in a BAM file. MD tags can also be generated with [samtools](http://www.htslib.org/doc/samtools-calmd.html).\n",
    "\n",
    "## Dependencies\n",
    "\n",
    "1. [Samtools](http://www.htslib.org/)\n",
    "2. [Pysam](https://pysam.readthedocs.io/en/latest/api.html)\n",
    "\n",
    "## Installation\n",
    "\n",
    "```pip3 install filtersam```\n",
    "\n",
    "## TODO\n",
    "\n",
    "1. Make it command line callable\n",
    "2. Perhaps good idea (if possible) to add a specific tag to BAM/SAM containing computed percent identity\n",
    "3. Include several definitions of percent identity and/or let the user define one"
   ]
  },
  {
   "cell_type": "markdown",
   "id": "3a4a11e8-5be1-4b94-925b-ec4441ca70cf",
   "metadata": {},
   "source": [
    "# Usage\n",
    "\n",
    "This package contains two main functions: ```filterSAMbyIdentity``` and ```filterSAMbyPercentMatched```, to filter BAM files by percent identity or percent of matched sequence, respectively. \n",
    "\n",
    "To exemplify its usage, let's filter a BAM file by percent identity and percent of matched sequence."
   ]
  },
  {
   "cell_type": "code",
   "execution_count": 1,
   "id": "2b6ffe12-c8cd-4b73-942f-38986941b0cc",
   "metadata": {},
   "outputs": [],
   "source": [
    "from filtersam.filtersam import filterSAMbyIdentity, filterSAMbyPercentMatched\n",
    "\n",
    "\n",
    "# Filter alignments with percent identity greater or equal to 95%\n",
    "filterSAMbyIdentity(input_path='ERS491274.bam',\n",
    "                    output_path='ERS491274_PI95.bam',\n",
    "                    identity_cutoff=95)\n",
    "\n",
    "# Filter alignments with percent of matched sequence greater or equal to 50%\n",
    "filterSAMbyPercentMatched(input_path='ERS491274.bam',\n",
    "                          output_path='ERS491274_PM50.bam',\n",
    "                          matched_cutoff=50)"
   ]
  },
  {
   "cell_type": "markdown",
   "id": "febf2859-3230-49b6-85d9-22517f254d13",
   "metadata": {},
   "source": [
    "# Parallelizing filtersam\n",
    "\n",
    "Filtering large BAM files can take a while. However, ```filtersam``` can be parallelized with an additional python package: [parallelbam](https://pypi.org/project/parallelbam/). Effectively, ```parallelbam``` splits a large BAM file into chunks and calls ```filtersam``` in dedicated processes for each one of them.\n",
    "\n",
    "Let's try this out, we will parallelize the above operation in 8 processes."
   ]
  },
  {
   "cell_type": "code",
   "execution_count": 10,
   "id": "325580aa-994b-49c3-8843-34abb9668fc6",
   "metadata": {},
   "outputs": [],
   "source": [
    "from parallelbam.parallelbam import parallelizeBAMoperation, getNumberOfReads\n",
    "\n",
    "\n",
    "# Filter alignments with percent identity greater or equal to 95% in parallel\n",
    "parallelizeBAMoperation('ERS491274.bam',\n",
    "                        callback=filterSAMbyIdentity,\n",
    "                        callback_additional_args=[95],\n",
    "                        n_processes=8,\n",
    "                        output_dir='ERS491274_PI95_parallel.bam')"
   ]
  },
  {
   "cell_type": "markdown",
   "id": "e369ce25-60e1-463b-b788-0da30f96ea0c",
   "metadata": {},
   "source": [
    "We can further check if the filtered bam files produced in a single process and in parallel contain the same number of segments with the function ```getNumberOfReads``` of parallelbam."
   ]
  },
  {
   "cell_type": "code",
   "execution_count": 11,
   "id": "1c42a49c-275e-49bc-bccf-14b5b3669c23",
   "metadata": {},
   "outputs": [
    {
     "data": {
      "text/plain": [
       "1113119"
      ]
     },
     "execution_count": 11,
     "metadata": {},
     "output_type": "execute_result"
    }
   ],
   "source": [
    "# Number of segments in the original bam\n",
    "getNumberOfReads('ERS491274.bam')"
   ]
  },
  {
   "cell_type": "code",
   "execution_count": 5,
   "id": "f991c568-3b6a-4cc9-a402-6bbc57e6b161",
   "metadata": {},
   "outputs": [
    {
     "data": {
      "text/plain": [
       "11384"
      ]
     },
     "execution_count": 5,
     "metadata": {},
     "output_type": "execute_result"
    }
   ],
   "source": [
    "# Number of segments in the single-process PI-filtered bam file\n",
    "getNumberOfReads('ERS491274_PI95.bam')"
   ]
  },
  {
   "cell_type": "code",
   "execution_count": 4,
   "id": "e2b34891-76bc-4b76-95f9-449801575a81",
   "metadata": {},
   "outputs": [
    {
     "data": {
      "text/plain": [
       "11384"
      ]
     },
     "execution_count": 4,
     "metadata": {},
     "output_type": "execute_result"
    }
   ],
   "source": [
    "# Number of segments in the paralllized PI-filtered bam file\n",
    "getNumberOfReads('ERS491274_PI95_parallel.bam')"
   ]
  },
  {
   "cell_type": "markdown",
   "id": "0e2aff62-9dcc-424c-9fb0-63a3450f1172",
   "metadata": {},
   "source": [
    "We see that both bam files contain the same number of (filtered) segments (fewer than in the original bam file)."
   ]
  },
  {
   "cell_type": "markdown",
   "id": "6552e2be-97c3-4d8e-86c6-a71459e8f757",
   "metadata": {},
   "source": [
    "# Command-line usage\n",
    "\n",
    "Filtersam can also be called as a command line program in the following way:\n",
    "\n",
    "```filtersam [-h] [-i] [-m] [-p] [-o] bam```\n",
    "\n",
    "where _bam_ is the path to the bam/sam file.\n",
    "\n",
    "Call \n",
    "\n",
    "```filtersam --help```\n",
    "\n",
    "to display help text about the arguments."
   ]
  }
 ],
 "metadata": {
  "kernelspec": {
   "display_name": "Python 3",
   "language": "python",
   "name": "python3"
  },
  "language_info": {
   "codemirror_mode": {
    "name": "ipython",
    "version": 3
   },
   "file_extension": ".py",
   "mimetype": "text/x-python",
   "name": "python",
   "nbconvert_exporter": "python",
   "pygments_lexer": "ipython3",
   "version": "3.8.10"
  }
 },
 "nbformat": 4,
 "nbformat_minor": 5
}
